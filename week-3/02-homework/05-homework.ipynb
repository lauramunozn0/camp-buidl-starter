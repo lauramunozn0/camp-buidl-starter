{
  "cells": [
    {
      "cell_type": "markdown",
      "metadata": {
        "id": "U_8RyW0JdNQ8"
      },
      "source": [
        "# Homework 5: Lists\n",
        "\n",
        "## **Submission Guidelines**\n",
        "* Focus on completing Exercises 1, 2 and 3. Exercises 4 and 5 are _stretch challenges_.\n",
        "* Submit your work as a single Python file (__`.py`__) or a Jupyter Notebook (__`.ipynb`__).\n",
        "* Clearly label each exercise and include comments to explain your logic.\n",
        "\n",
        "## Instructions\n",
        "\n",
        "Complete the following exercises in a single Python file or Jupyter Notebook. Clearly label each exercise and include comments explaining your logic. **Do not use loops or built-in aggregate functions in Exercises 4 and 5.** Use only basic variables, list indexing (referring to the first element, second element, etc.), conditionals, and arithmetic operations.\n",
        "\n",
        "**Remember to start with the English steps, write pseudocode, then write code.**"
      ]
    },
    {
      "cell_type": "markdown",
      "metadata": {
        "id": "yItMIUFhdNQ-"
      },
      "source": [
        "### Exercise 1: Basic List Operations\n",
        "\n",
        "1. **Create a List:** Write code to create a list with 5 elements of your choice.\n",
        "2. **Print the List:** Display the original list.\n",
        "3. **Modify the List:**\n",
        "   - Change the second element to a new value.\n",
        "   - Append a new element to the end of the list.\n",
        "   - Remove the third element from the list.\n",
        "4. **Print the Updated List:** Verify your modifications by printing the final list.\n"
      ]
    },
    {
      "cell_type": "code",
      "execution_count": 13,
      "metadata": {
        "id": "9uNsEqtNdNQ-"
      },
      "outputs": [],
      "source": [
        "# Exercise 1, Step 1: Create a list with 5 elements\n",
        "#I will create my list with the numbers 10,20,30,40,50.\n",
        "# Your code here\n",
        "\n",
        "my_list = [10, 20, 30, 40, 50]"
      ]
    },
    {
      "cell_type": "code",
      "execution_count": 16,
      "metadata": {
        "colab": {
          "base_uri": "https://localhost:8080/"
        },
        "id": "S_6-XfvcdNQ_",
        "outputId": "9a315849-16e9-4895-cd75-065a7a93026c"
      },
      "outputs": [
        {
          "output_type": "stream",
          "name": "stdout",
          "text": [
            "original list: [10, 20, 30, 40, 50]\n"
          ]
        }
      ],
      "source": [
        "# Exercise 1, Step 2: Print the original list\n",
        "#I will print my original list\n",
        "# Your code here\n",
        "\n",
        "print(\"original list:\", my_list)\n"
      ]
    },
    {
      "cell_type": "code",
      "execution_count": 23,
      "metadata": {
        "id": "PMwcYePNdNQ_"
      },
      "outputs": [],
      "source": [
        "# Exercise 1, Step 3: Modify the list\n",
        "# - Change the second element to a new value\n",
        "# - Append a new element to the end of the list\n",
        "# - Remove the third element from the list\n",
        "# Your code here\n",
        "#So our index starts at 0 so we have to put 1 in the middle of the brackets\n",
        "# and replace it with 99. the we add my append 60 and 2\n",
        "my_list[1]= 99\n",
        "my_list.append(60)\n",
        "my_list.append(2)\n",
        "\n",
        "\n",
        "\n",
        "\n"
      ]
    },
    {
      "cell_type": "code",
      "execution_count": 24,
      "metadata": {
        "colab": {
          "base_uri": "https://localhost:8080/"
        },
        "id": "GeLbms1OdNQ_",
        "outputId": "f126553d-6bd7-4ebc-8182-681ddbf03042"
      },
      "outputs": [
        {
          "output_type": "stream",
          "name": "stdout",
          "text": [
            "updated list [10, 99, 30, 40, 50, 60, 2, 60, 2, 60, 2]\n"
          ]
        }
      ],
      "source": [
        "# Exercise 1, Step 4: Print the updated list\n",
        "# Your code here\n",
        "#here we are just updating my list\n",
        "\n",
        "print(\"updated list\", my_list)\n"
      ]
    },
    {
      "cell_type": "markdown",
      "metadata": {
        "id": "356lJRnAdNQ_"
      },
      "source": [
        "### Exercise 2: Membership Check\n",
        "\n",
        "1. **Create a List:** Write code to create a list with 5 colors of your choice.\n",
        "2. **Membership Check:** Check if the color \"blue\" is in your list.\n",
        "   - If it is present, print a message confirming that the list contains \"blue\".\n",
        "   - If it is not present, print a message indicating that \"blue\" is not in the list.\n",
        "\n",
        "*Note:* You do not need to retrieve the position of the element; simply print a confirmation message."
      ]
    },
    {
      "cell_type": "code",
      "execution_count": 28,
      "metadata": {
        "id": "ba_UZf8KdNQ_"
      },
      "outputs": [],
      "source": [
        "# Exercise 2, Step 1: Create a list with 5 colors\n",
        "\n",
        "# Your code here\n",
        "\n",
        "#I chose my fave colorssss\n",
        "\n",
        "color_list = [\"gold, pink, black, white, brown\"]\n",
        "\n"
      ]
    },
    {
      "cell_type": "code",
      "execution_count": 29,
      "metadata": {
        "colab": {
          "base_uri": "https://localhost:8080/"
        },
        "id": "9UvWuHtNdNQ_",
        "outputId": "81c2c661-41da-42ea-c792-e2bbd2044298"
      },
      "outputs": [
        {
          "output_type": "stream",
          "name": "stdout",
          "text": [
            "blue is not in our list\n"
          ]
        }
      ],
      "source": [
        "# Exercise 2, Step 2: Check for membership of 'blue'\n",
        "# Your code here\n",
        "#it looks like blue is not in my list lol\n",
        "\n",
        "if \"blue\" in color_list:\n",
        "  print (\"blue is in our list\")\n",
        "else:\n",
        "  print(\"blue is not in our list\")\n",
        "\n"
      ]
    },
    {
      "cell_type": "markdown",
      "metadata": {
        "id": "W2lVLqHxdNRA"
      },
      "source": [
        "### Exercise 3: Real-World List Modification (Hard)\n",
        "\n",
        "Imagine you are managing a set of 5 numbers (for example, representing test scores). Write a program that performs the following tasks (remember: the first element is the first, the second is the second, and so on):\n",
        "\n",
        "1. **Initialize the List:** Create a list of 5 numbers.\n",
        "2. **Conditional Adjustment:** Check if the third element is less than 50.\n",
        "   - If it is, update that element to 50.\n",
        "3. **Conditional Penalty:** Calculate the sum of the first element and the last element.\n",
        "   - If this sum is greater than 100, set the last element to 0.\n",
        "4. **Swap Operation:** Swap the first element with the third element.\n",
        "5. **Print the Final List:** Display the modified list.\n"
      ]
    },
    {
      "cell_type": "code",
      "execution_count": 30,
      "metadata": {
        "id": "vOdINXuQdNRA"
      },
      "outputs": [],
      "source": [
        "# Exercise 3, Step 1: Initialize a list of 5 numbers\n",
        "\n",
        "# Your code here\n",
        "\n",
        "my_score_numbers = [5, 6, 7, 8, 9]\n"
      ]
    },
    {
      "cell_type": "code",
      "execution_count": null,
      "metadata": {
        "id": "Gwqd1evqdNRA"
      },
      "outputs": [],
      "source": [
        "# Exercise 3, Step 2: Conditional adjustment - if the third element is less than 50, update it to 50\n",
        "\n",
        "# Your code here\n",
        "\n"
      ]
    },
    {
      "cell_type": "code",
      "execution_count": null,
      "metadata": {
        "id": "4_5INz3BdNRA"
      },
      "outputs": [],
      "source": [
        "# Exercise 3, Step 3: Conditional penalty - if the sum of the first and last elements is greater than 100, set the last element to 0\n",
        "\n",
        "# Your code here\n"
      ]
    },
    {
      "cell_type": "code",
      "execution_count": null,
      "metadata": {
        "id": "Kfi761EfdNRA"
      },
      "outputs": [],
      "source": [
        "# Exercise 3, Step 4: Swap the first element with the third element\n",
        "\n",
        "# Your code here\n"
      ]
    },
    {
      "cell_type": "code",
      "execution_count": null,
      "metadata": {
        "id": "EKu6i4RCdNRA"
      },
      "outputs": [],
      "source": [
        "# Exercise 3, Step 5: Print the final list\n",
        "\n",
        "# Your code here\n"
      ]
    },
    {
      "cell_type": "markdown",
      "metadata": {
        "id": "O_t2JjaEdNRA"
      },
      "source": [
        "### Exercise 4: Manual Analysis Without Loops or Built-In Functions (Extra Hard)\n",
        "\n",
        "You are given a list of 10 numbers (for instance, representing grades). Without using loops or built-in functions (such as `sum()`, `len()`, etc.), complete the following tasks by manually accessing each element:\n",
        "\n",
        "1. **Create a List:** Write code to create a list with 10 numbers.\n",
        "2. **Compute the Total:** Manually add all the numbers by accessing each element individually.\n",
        "3. **Calculate the Average:** Divide the total by the number of elements in the list.\n",
        "4. **Determine the Highest Value:** Use `if` statements to compare the elements and determine the highest value.\n",
        "5. **Determine the Lowest Value:** Similarly, determine the lowest value among the elements.\n",
        "6. **Print Your Results:** Display the average, highest, and lowest values.\n"
      ]
    },
    {
      "cell_type": "code",
      "execution_count": null,
      "metadata": {
        "id": "xiGqwZuXdNRA"
      },
      "outputs": [],
      "source": [
        "# Exercise 4, Step 1: Create a list with 10 numbers\n",
        "\n",
        "# Your code here\n"
      ]
    },
    {
      "cell_type": "code",
      "execution_count": null,
      "metadata": {
        "id": "fUZJL58RdNRB"
      },
      "outputs": [],
      "source": [
        "# Exercise 4, Step 2: Manually compute the total of all numbers\n",
        "\n",
        "# Your code here\n"
      ]
    },
    {
      "cell_type": "code",
      "execution_count": null,
      "metadata": {
        "id": "mPa4lkaudNRB"
      },
      "outputs": [],
      "source": [
        "# Exercise 4, Step 3: Calculate the average of the numbers\n",
        "\n",
        "# Your code here\n"
      ]
    },
    {
      "cell_type": "code",
      "execution_count": null,
      "metadata": {
        "id": "cg3dQh7wdNRB"
      },
      "outputs": [],
      "source": [
        "# Exercise 4, Step 4: Determine the highest value using if statements\n",
        "# Your code here"
      ]
    },
    {
      "cell_type": "code",
      "execution_count": null,
      "metadata": {
        "id": "v452_rPldNRB"
      },
      "outputs": [],
      "source": [
        "# Exercise 4, Step 5: Determine the lowest value using if statements\n",
        "\n",
        "# Your code here\n"
      ]
    },
    {
      "cell_type": "code",
      "execution_count": null,
      "metadata": {
        "id": "F_WqyUdCdNRB"
      },
      "outputs": [],
      "source": [
        "# Exercise 4, Step 6: Print the average, highest, and lowest values\n",
        "\n",
        "# Your code here\n"
      ]
    },
    {
      "cell_type": "markdown",
      "metadata": {
        "id": "I4EbxGm5dNRB"
      },
      "source": [
        "### Exercise 5: Vowel Filter Without Loops (Nearly Impossible)\n",
        "\n",
        "Create a program that filters a list of 7 strings to include only those that start with a vowel. **Do not use loops.** Instead, use individual conditional statements and manual indexing.\n",
        "\n",
        "1. **Create a List:** Write code to create a list with 7 strings of your choice.\n",
        "2. **Filter the List:** For each string in the list, check if its first character is a vowel (a, e, i, o, or u).\n",
        "   - *Hint:* To access the first character of a string, use `string[0]`.\n",
        "   - For each string that starts with a vowel, add it to a new list manually.\n",
        "3. **Print the New List:** Display the list of strings that begin with a vowel.\n"
      ]
    },
    {
      "cell_type": "code",
      "execution_count": null,
      "metadata": {
        "id": "Mv4ahtLldNRB"
      },
      "outputs": [],
      "source": [
        "# Exercise 5, Step 1: Create a list with 7 strings\n",
        "\n",
        "# Your code here\n"
      ]
    },
    {
      "cell_type": "code",
      "execution_count": null,
      "metadata": {
        "id": "048LJvSxdNRB"
      },
      "outputs": [],
      "source": [
        "# Exercise 5, Step 2: Filter the list to include only strings that start with a vowel\n",
        "\n",
        "# Your code here\n"
      ]
    },
    {
      "cell_type": "code",
      "execution_count": null,
      "metadata": {
        "id": "ULvrYeaFdNRB"
      },
      "outputs": [],
      "source": [
        "# Exercise 5, Step 3: Print the new list of strings that start with a vowel\n",
        "\n",
        "# Your code here\n"
      ]
    }
  ],
  "metadata": {
    "kernelspec": {
      "display_name": "Python 3",
      "language": "python",
      "name": "python3"
    },
    "language_info": {
      "name": "python",
      "version": "3.x"
    },
    "colab": {
      "provenance": []
    }
  },
  "nbformat": 4,
  "nbformat_minor": 0
}